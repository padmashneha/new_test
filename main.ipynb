{
 "cells": [
  {
   "cell_type": "code",
   "execution_count": 19,
   "metadata": {},
   "outputs": [],
   "source": [
    "# pip install fastapi uvicorn torch transformers PyPDF2 aiofiles scikit-learn nltk python-multipart\n",
    "\n",
    "from fastapi import FastAPI, File, UploadFile, Form\n",
    "from fastapi.responses import HTMLResponse, JSONResponse\n",
    "from fastapi.templating import Jinja2Templates\n",
    "from transformers import BertForSequenceClassification, BertTokenizer\n",
    "import torch\n",
    "import PyPDF2\n",
    "from io import BytesIO\n",
    "import pickle\n",
    "from fastapi import Request\n",
    "import numpy as np\n",
    "import re\n",
    "from nltk.corpus import stopwords"
   ]
  },
  {
   "cell_type": "code",
   "execution_count": 20,
   "metadata": {},
   "outputs": [
    {
     "name": "stderr",
     "output_type": "stream",
     "text": [
      "[nltk_data] Downloading package stopwords to\n",
      "[nltk_data]     /Users/padmashneha/nltk_data...\n",
      "[nltk_data]   Package stopwords is already up-to-date!\n",
      "[nltk_data] Downloading package punkt to\n",
      "[nltk_data]     /Users/padmashneha/nltk_data...\n",
      "[nltk_data]   Package punkt is already up-to-date!\n"
     ]
    },
    {
     "data": {
      "text/plain": [
       "True"
      ]
     },
     "execution_count": 20,
     "metadata": {},
     "output_type": "execute_result"
    }
   ],
   "source": [
    "import ssl\n",
    "ssl._create_default_https_context = ssl._create_unverified_context\n",
    "\n",
    "import nltk\n",
    "nltk.download('stopwords')\n",
    "nltk.download('punkt')\n"
   ]
  },
  {
   "cell_type": "code",
   "execution_count": 21,
   "metadata": {},
   "outputs": [
    {
     "name": "stderr",
     "output_type": "stream",
     "text": [
      "[nltk_data] Downloading package stopwords to\n",
      "[nltk_data]     /Users/padmashneha/nltk_data...\n",
      "[nltk_data]   Package stopwords is already up-to-date!\n"
     ]
    },
    {
     "data": {
      "text/plain": [
       "True"
      ]
     },
     "execution_count": 21,
     "metadata": {},
     "output_type": "execute_result"
    }
   ],
   "source": [
    "\n",
    "# Make sure to download stopwords from nltk\n",
    "import nltk\n",
    "nltk.download('stopwords')"
   ]
  },
  {
   "cell_type": "code",
   "execution_count": 22,
   "metadata": {},
   "outputs": [],
   "source": [
    "\n",
    "\n",
    "\n",
    "\n",
    "# Load the model, tokenizer, and label encoder\n",
    "model = BertForSequenceClassification.from_pretrained('./patient_model')\n",
    "tokenizer = BertTokenizer.from_pretrained('./patient_model')\n",
    "label_encoder = pickle.load(open(\"label_encoder.pkl\", 'rb'))\n"
   ]
  },
  {
   "cell_type": "code",
   "execution_count": 23,
   "metadata": {},
   "outputs": [],
   "source": [
    "app = FastAPI()"
   ]
  },
  {
   "cell_type": "code",
   "execution_count": 24,
   "metadata": {},
   "outputs": [],
   "source": [
    "\n",
    "\n",
    "# Set up templates and static file directory\n",
    "templates = Jinja2Templates(directory=\"templates\")"
   ]
  },
  {
   "cell_type": "code",
   "execution_count": 25,
   "metadata": {},
   "outputs": [],
   "source": [
    "disease_data = {\n",
    "    \"Peptic Ulcer Disease\": {\n",
    "        \"description\": \"A sore that develops on the lining of the esophagus, stomach, or small intestine.\",\n",
    "        \"medicines\": [\"Omeprazole\", \"Pantoprazole\", \"Ranitidine\", \"Esomeprazole\", \"Amoxicillin\"],\n",
    "        \"specialists\": [\"Gastroenterologist\", \"General Physician\", \"Internal Medicine Specialist\"]\n",
    "    },\n",
    "    \"Type 2 Diabetes Mellitus\": {\n",
    "        \"description\": \"A chronic condition that affects the way the body processes blood sugar (glucose).\",\n",
    "        \"medicines\": [\"Metformin\", \"Glipizide\", \"Insulin\", \"Sitagliptin\", \"Canagliflozin\"],\n",
    "        \"specialists\": [\"Endocrinologist\", \"Diabetologist\", \"Nutritionist\"]\n",
    "    },\n",
    "    \"Acute Myocardial Infarction\": {\n",
    "        \"description\": \"A medical emergency where the blood flow to the heart is blocked.\",\n",
    "        \"medicines\": [\"Aspirin\", \"Clopidogrel\", \"Statins\", \"Beta Blockers\", \"ACE Inhibitors\"],\n",
    "        \"specialists\": [\"Cardiologist\", \"Emergency Medicine Specialist\"]\n",
    "    },\n",
    "    \"Chronic Obstructive Pulmonary Disease\": {\n",
    "        \"description\": \"A group of lung diseases that block airflow and make breathing difficult.\",\n",
    "        \"medicines\": [\"Tiotropium\", \"Albuterol\", \"Ipratropium\", \"Fluticasone\", \"Salmeterol\"],\n",
    "        \"specialists\": [\"Pulmonologist\", \"General Physician\", \"Respiratory Therapist\"]\n",
    "    },\n",
    "    \"Cerebrovascular Accident (Stroke)\": {\n",
    "        \"description\": \"A condition caused by the interruption of blood flow to the brain.\",\n",
    "        \"medicines\": [\"Alteplase\", \"Aspirin\", \"Clopidogrel\", \"Warfarin\", \"Atorvastatin\"],\n",
    "        \"specialists\": [\"Neurologist\", \"Rehabilitation Specialist\", \"Neurosurgeon\"]\n",
    "    },\n",
    "    \"Deep Vein Thrombosis\": {\n",
    "        \"description\": \"A blood clot forms in a deep vein, usually in the legs.\",\n",
    "        \"medicines\": [\"Warfarin\", \"Heparin\", \"Apixaban\", \"Dabigatran\", \"Rivaroxaban\"],\n",
    "        \"specialists\": [\"Hematologist\", \"Vascular Surgeon\", \"Cardiologist\"]\n",
    "    },\n",
    "    \"Chronic Kidney Disease\": {\n",
    "        \"description\": \"The gradual loss of kidney function over time.\",\n",
    "        \"medicines\": [\"Erythropoietin\", \"Phosphate Binders\", \"ACE Inhibitors\", \"Diuretics\", \"Calcitriol\"],\n",
    "        \"specialists\": [\"Nephrologist\", \"Dietitian\", \"Internal Medicine Specialist\"]\n",
    "    },\n",
    "    \"Community-Acquired Pneumonia\": {\n",
    "        \"description\": \"A lung infection acquired outside of a hospital setting.\",\n",
    "        \"medicines\": [\"Amoxicillin\", \"Azithromycin\", \"Clarithromycin\", \"Ceftriaxone\", \"Levofloxacin\"],\n",
    "        \"specialists\": [\"Pulmonologist\", \"Infectious Disease Specialist\", \"General Physician\"]\n",
    "    },\n",
    "    \"Septic Shock\": {\n",
    "        \"description\": \"A severe infection leading to dangerously low blood pressure.\",\n",
    "        \"medicines\": [\"Norepinephrine\", \"Vancomycin\", \"Meropenem\", \"Hydrocortisone\", \"Dopamine\"],\n",
    "        \"specialists\": [\"Intensivist\", \"Infectious Disease Specialist\", \"Emergency Medicine Specialist\"]\n",
    "    },\n",
    "    \"Rheumatoid Arthritis\": {\n",
    "        \"description\": \"An autoimmune disorder causing inflammation in joints.\",\n",
    "        \"medicines\": [\"Methotrexate\", \"Sulfasalazine\", \"Hydroxychloroquine\", \"Adalimumab\", \"Etanercept\"],\n",
    "        \"specialists\": [\"Rheumatologist\", \"Orthopedic Specialist\", \"Physical Therapist\"]\n",
    "    },\n",
    "    \"Congestive Heart Failure\": {\n",
    "        \"description\": \"A chronic condition where the heart doesn't pump blood effectively.\",\n",
    "        \"medicines\": [\"ACE Inhibitors\", \"Beta Blockers\", \"Diuretics\", \"Spironolactone\", \"Digoxin\"],\n",
    "        \"specialists\": [\"Cardiologist\", \"General Physician\", \"Cardiac Surgeon\"]\n",
    "    },\n",
    "    \"Pulmonary Embolism\": {\n",
    "        \"description\": \"A blockage in one of the pulmonary arteries in the lungs.\",\n",
    "        \"medicines\": [\"Heparin\", \"Warfarin\", \"Alteplase\", \"Rivaroxaban\", \"Dabigatran\"],\n",
    "        \"specialists\": [\"Pulmonologist\", \"Hematologist\", \"Emergency Medicine Specialist\"]\n",
    "    },\n",
    "    \"Sepsis\": {\n",
    "        \"description\": \"A life-threatening organ dysfunction caused by a dysregulated immune response to infection.\",\n",
    "        \"medicines\": [\"Vancomycin\", \"Meropenem\", \"Piperacillin-Tazobactam\", \"Cefepime\", \"Dopamine\"],\n",
    "        \"specialists\": [\"Infectious Disease Specialist\", \"Intensivist\", \"Emergency Medicine Specialist\"]\n",
    "    },\n",
    "    \"Liver Cirrhosis\": {\n",
    "        \"description\": \"A late-stage liver disease caused by liver scarring and damage.\",\n",
    "        \"medicines\": [\"Spironolactone\", \"Furosemide\", \"Lactulose\", \"Nadolol\", \"Rifaximin\"],\n",
    "        \"specialists\": [\"Hepatologist\", \"Gastroenterologist\", \"Nutritionist\"]\n",
    "    },\n",
    "    \"Acute Renal Failure\": {\n",
    "        \"description\": \"A sudden loss of kidney function.\",\n",
    "        \"medicines\": [\"Diuretics\", \"Dopamine\", \"Calcium Gluconate\", \"Sodium Bicarbonate\", \"Epoetin\"],\n",
    "        \"specialists\": [\"Nephrologist\", \"Critical Care Specialist\", \"Internal Medicine Specialist\"]\n",
    "    },\n",
    "    \"Urinary Tract Infection\": {\n",
    "        \"description\": \"An infection in any part of the urinary system.\",\n",
    "        \"medicines\": [\"Nitrofurantoin\", \"Ciprofloxacin\", \"Amoxicillin-Clavulanate\", \"Trimethoprim-Sulfamethoxazole\", \"Cephalexin\"],\n",
    "        \"specialists\": [\"Urologist\", \"General Physician\", \"Infectious Disease Specialist\"]\n",
    "    },\n",
    "    \"Hypertension\": {\n",
    "        \"description\": \"A condition in which the force of the blood against the artery walls is too high.\",\n",
    "        \"medicines\": [\"Lisinopril\", \"Amlodipine\", \"Losartan\", \"Hydrochlorothiazide\", \"Metoprolol\"],\n",
    "        \"specialists\": [\"Cardiologist\", \"General Physician\", \"Nephrologist\"]\n",
    "    },\n",
    "    \"Asthma\": {\n",
    "        \"description\": \"A condition in which the airways narrow and swell, causing difficulty in breathing.\",\n",
    "        \"medicines\": [\"Albuterol\", \"Fluticasone\", \"Montelukast\", \"Budesonide\", \"Salmeterol\"],\n",
    "        \"specialists\": [\"Pulmonologist\", \"Allergist\", \"General Physician\"]\n",
    "    },\n",
    "    \"Gastroesophageal Reflux Disease (GERD)\": {\n",
    "        \"description\": \"A digestive disorder where stomach acid irritates the esophagus.\",\n",
    "        \"medicines\": [\"Omeprazole\", \"Esomeprazole\", \"Ranitidine\", \"Lansoprazole\", \"Pantoprazole\"],\n",
    "        \"specialists\": [\"Gastroenterologist\", \"General Physician\", \"Dietitian\"]\n",
    "    }\n",
    "}\n",
    "\n"
   ]
  },
  {
   "cell_type": "code",
   "execution_count": 26,
   "metadata": {},
   "outputs": [],
   "source": [
    "\n",
    "# Extended clean_text function with more steps\n",
    "def clean_text(text):\n",
    "    stop_words = set(stopwords.words('english'))\n",
    "\n",
    "    # Convert to string and lowercase the text\n",
    "    text = str(text).lower()\n",
    "\n",
    "    # Remove any numbers (you may want to modify this if numbers are important)\n",
    "    text = re.sub(r'\\d+', '', text)\n",
    "\n",
    "    # Remove special characters, punctuation, and non-alphabetical characters\n",
    "    text = re.sub(r'[^a-z\\s]', '', text)\n",
    "\n",
    "    # Remove extra spaces\n",
    "    text = re.sub(r'\\s+', ' ', text).strip()\n",
    "\n",
    "    # Remove stopwords\n",
    "    text = ' '.join([word for word in text.split() if word not in stop_words])\n",
    "\n",
    "    return text"
   ]
  },
  {
   "cell_type": "code",
   "execution_count": 11,
   "metadata": {},
   "outputs": [],
   "source": [
    "# Function to make prediction\n",
    "def predict_disease(patient_note, model, tokenizer, label_encoder):\n",
    "    patient_note = clean_text(patient_note)\n",
    "\n",
    "    # Tokenize the input patient note\n",
    "    inputs = tokenizer(patient_note, return_tensors=\"pt\", padding=True, truncation=True, max_length=512)\n",
    "\n",
    "    # Make prediction\n",
    "    with torch.no_grad():\n",
    "        outputs = model(**inputs)\n",
    "        logits = outputs.logits\n",
    "\n",
    "    # Get the predicted label\n",
    "    predicted_label = torch.argmax(logits, dim=1).item()\n",
    "\n",
    "    # Convert the predicted label to the corresponding disease name\n",
    "    predicted_disease = label_encoder.inverse_transform([predicted_label])[0]\n",
    "\n",
    "    return predicted_disease"
   ]
  },
  {
   "cell_type": "code",
   "execution_count": 12,
   "metadata": {},
   "outputs": [],
   "source": [
    "\n",
    "# Route for rendering the index page\n",
    "@app.get(\"/\", response_class=HTMLResponse)\n",
    "async def upload_form(request: Request):\n",
    "    return templates.TemplateResponse(\"index.html\", {\"request\": request})\n"
   ]
  },
  {
   "cell_type": "code",
   "execution_count": 13,
   "metadata": {},
   "outputs": [],
   "source": [
    "# Function to get disease details\n",
    "def get_disease_details(disease_name):\n",
    "    if disease_name in disease_data:\n",
    "        return disease_data[disease_name]\n",
    "    return {\n",
    "        \"description\": \"No details available for this disease.\",\n",
    "        \"medicines\": [],\n",
    "        \"specialists\": []\n",
    "    }"
   ]
  },
  {
   "cell_type": "code",
   "execution_count": 15,
   "metadata": {},
   "outputs": [],
   "source": [
    "#  Updated predict endpoint\n",
    "@app.post(\"/predict/\")\n",
    "async def predict(file: UploadFile = File(...)):\n",
    "    content = await file.read()\n",
    "    text = \"\"\n",
    "\n",
    "    # Extract text from PDF or TXT file\n",
    "    if file.filename.endswith(\".pdf\"):\n",
    "        pdf_reader = PyPDF2.PdfReader(BytesIO(content))\n",
    "        for page in pdf_reader.pages:\n",
    "            text += page.extract_text()\n",
    "    elif file.filename.endswith(\".txt\"):\n",
    "        text = content.decode(\"utf-8\")\n",
    "\n",
    "    # Predict disease\n",
    "    predicted_disease = predict_disease(text, model, tokenizer, label_encoder)\n",
    "    disease_details = get_disease_details(predicted_disease)\n",
    "\n",
    "    # Return result\n",
    "    return JSONResponse(content={\n",
    "        \"predicted_disease\": predicted_disease,\n",
    "        \"description\": disease_details[\"description\"],\n",
    "        \"medicines\": disease_details[\"medicines\"],\n",
    "        \"specialists\": disease_details[\"specialists\"]\n",
    "    })\n",
    "\n"
   ]
  },
  {
   "cell_type": "code",
   "execution_count": 17,
   "metadata": {},
   "outputs": [
    {
     "name": "stdout",
     "output_type": "stream",
     "text": [
      "Patient Clinical Notes  \n",
      "Patient Name:  Mr. John Doe  \n",
      "Age:  52 years  \n",
      "Sex: Male  \n",
      "Date of Visit:  08 December 2024  \n",
      " \n",
      "Chief Complaint:  \n",
      "The patient reports persistent fatigue, frequent urination (polyuria), excessive thirst (polydipsia), and \n",
      "unintended weight loss over the past 3 months.  \n",
      " \n",
      "History of Present Illness:  \n",
      "Mr. Doe has been experiencing a gradual onset of symptoms suggestive of hyperglycemia. He notes \n",
      "increased thirst throughout the day, especially at night. Despite maintaining his usual dietary habits, he \n",
      "has lost approximately 10 pounds in the past three mo nths. He also reports blurry vision and occasional \n",
      "tingling sensations in his feet.  \n",
      " \n",
      "Past Medical History:  \n",
      "• Hypertension (diagnosed 10 years ago)  \n",
      "• Family history of diabetes (father diagnosed at age 55)  \n",
      "• No prior hospitalizations for diabetes -related complications  \n",
      " \n",
      "Medications:  \n",
      "• Amlodipine 5 mg daily (for hypertension)  \n",
      "• No current medications for diabetes  \n",
      " \n",
      "Lifestyle and Social History:  \n",
      "• Smoker: Quit smoking 5 years ago (previously 1 pack/day for 20 years)  \n",
      "• Alcohol: Occasional consumption (1 -2 drinks per month)  \n",
      "• Diet: High carbohydrate intake, limited fruits/vegetables  \n",
      "• Physical activity: Sedentary lifestyle  \n",
      " \n",
      "Physical Examination:  \n",
      "• Weight:  198 lbs (90 kg)  \n",
      "• Height:  5’9” (175 cm)  \n",
      "• BMI:  29.4 (Overweight)  \n",
      "• Vitals:  \n",
      "o Blood Pressure: 145/92 mmHg  \n",
      "o Heart Rate: 78 bpm  \n",
      "o Respiratory Rate: 16 bpm  \n",
      "o Temperature: 98.6°F  \n",
      "• Focused Examination:  \n",
      "o Eyes:  No fundoscopic evidence of diabetic retinopathy  \n",
      "o Feet:  Mild peripheral neuropathy (reduced sensation to monofilament test)  \n",
      "o Cardiovascular:  Normal S1, S2 without murmurs  \n",
      "o Abdomen:  Non -tender, no organomegaly  \n",
      " \n",
      "Laboratory Findings:  \n",
      "• Fasting Blood Glucose:  178 mg/dL (normal: <100 mg/dL)  \n",
      "• HbA1c:  8.2% (normal: <5.7%)  \n",
      "• Lipid Panel:  \n",
      "o Total Cholesterol: 210 mg/dL (borderline high)  \n",
      "o LDL: 130 mg/dL (elevated)  \n",
      "o HDL: 40 mg/dL (low)  \n",
      "o Triglycerides: 180 mg/dL (elevated)  \n",
      "• Kidney Function Tests:  \n",
      "o Serum Creatinine: 0.9 mg/dL (normal)  \n",
      "o eGFR: >90 mL/min  \n",
      " \n",
      "Assessment:  \n",
      "1. Type 2 Diabetes Mellitus:  Newly diagnosed, uncontrolled, based on symptoms, fasting blood \n",
      "glucose, and HbA1c levels.  \n",
      "2. Hypertension:  Suboptimally controlled.  \n",
      "3. Dyslipidemia:  Elevation in LDL and triglycerides with reduced HDL.  \n",
      "4. Overweight:  BMI suggests increased cardiovascular risk.  \n",
      " \n",
      "Plan and Recommendations:  \n",
      "1. Medications:  \n",
      "o Initiate Metformin 500 mg once daily, to be titrated as tolerated.  \n",
      "o Prescribe atorvastatin 20 mg daily for dyslipidemia.  \n",
      "2. Lifestyle Modifications:  \n",
      "o Dietary counseling for a low -glycemic index, low -fat diet.  \n",
      "o Encourage at least 30 minutes of moderate exercise 5 times a week.  \n",
      "3. Follow -up Tests:  \n",
      "o Repeat HbA1c in 3 months.  \n",
      "o Annual retinal exam to monitor for diabetic retinopathy.  \n",
      "4. Referral:  \n",
      "o Endocrinologist for specialized diabetes management.  \n",
      "o Nutritionist for dietary planning.  \n",
      " \n",
      "Physician's Name:  Dr. Emily Carter  \n",
      "Specialty:  Internal Medicine  \n",
      " \n"
     ]
    }
   ],
   "source": [
    "import PyPDF2\n",
    "\n",
    "with open(\"/Users/padmashneha/Desktop/Projects/Clinical Diagnostic/Patient Report/patient 1 report.pdf\", \"rb\") as file:\n",
    "    reader = PyPDF2.PdfReader(file)\n",
    "    text = \"\\n\".join([page.extract_text() for page in reader.pages if page.extract_text()])\n",
    "print(text)\n"
   ]
  },
  {
   "cell_type": "code",
   "execution_count": 18,
   "metadata": {},
   "outputs": [
    {
     "name": "stdout",
     "output_type": "stream",
     "text": [
      "['Acute Myocardial Infarction' 'Acute Renal Failure' 'Asthma'\n",
      " 'Cerebrovascular Accident' 'Chronic Kidney Disease'\n",
      " 'Chronic Obstructive Pulmonary Disease' 'Community-Acquired Pneumonia'\n",
      " 'Congestive Heart Failure' 'Deep Vein Thrombosis'\n",
      " 'Gastroesophageal Reflux Disease' 'Hypertension' 'Liver Cirrhosis'\n",
      " 'Peptic Ulcer Disease' 'Pulmonary Embolism' 'Rheumatoid Arthritis'\n",
      " 'Sepsis' 'Septic Shock' 'Stroke' 'Type 2 Diabetes Mellitus'\n",
      " 'Urinary Tract Infection']\n"
     ]
    }
   ],
   "source": [
    "import pickle\n",
    "label_encoder = pickle.load(open(\"label_encoder.pkl\", \"rb\"))\n",
    "print(label_encoder.classes_)\n"
   ]
  },
  {
   "cell_type": "code",
   "execution_count": null,
   "metadata": {},
   "outputs": [],
   "source": [
    "\n"
   ]
  }
 ],
 "metadata": {
  "kernelspec": {
   "display_name": "Python 3",
   "language": "python",
   "name": "python3"
  },
  "language_info": {
   "codemirror_mode": {
    "name": "ipython",
    "version": 3
   },
   "file_extension": ".py",
   "mimetype": "text/x-python",
   "name": "python",
   "nbconvert_exporter": "python",
   "pygments_lexer": "ipython3",
   "version": "3.11.3"
  },
  "orig_nbformat": 4
 },
 "nbformat": 4,
 "nbformat_minor": 2
}
